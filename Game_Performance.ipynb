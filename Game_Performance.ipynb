{
  "nbformat": 4,
  "nbformat_minor": 0,
  "metadata": {
    "colab": {
      "provenance": []
    },
    "kernelspec": {
      "name": "python3",
      "display_name": "Python 3"
    },
    "language_info": {
      "name": "python"
    }
  },
  "cells": [
    {
      "cell_type": "code",
      "execution_count": 1,
      "metadata": {
        "id": "XinJ675L6kDf"
      },
      "outputs": [],
      "source": [
        "import pandas as pd\n",
        "import numpy as np\n",
        "import matplotlib.pylab as plt\n",
        "import seaborn as sns\n",
        "import matplotlib.patches as mpatches\n",
        "plt.style.use('ggplot')"
      ]
    },
    {
      "cell_type": "code",
      "source": [
        "def datasets():\n",
        "    #Training Dataset\n",
        "    train = pd.read_csv(\"../input/pred-student-perf-without-competiton-env/train.csv\")\n",
        "    #Importing Training Labels\n",
        "    labels = pd.read_csv(\"../input/pred-student-perf-without-competiton-env/train_labels.csv\")\n",
        "    #Test Dataset\n",
        "    test = pd.read_csv(\"../input/pred-student-perf-without-competiton-env/test.csv\")\n",
        "    return train, labels, test"
      ],
      "metadata": {
        "id": "jwe8pkfR6vL2"
      },
      "execution_count": 2,
      "outputs": []
    },
    {
      "cell_type": "code",
      "source": [
        "train_df, labels_df, test_df = datasets()"
      ],
      "metadata": {
        "colab": {
          "base_uri": "https://localhost:8080/",
          "height": 328
        },
        "id": "zCugKR5o7hHB",
        "outputId": "67cc7638-2a6f-4e93-8bab-d388fcc13fc5"
      },
      "execution_count": 3,
      "outputs": [
        {
          "output_type": "error",
          "ename": "FileNotFoundError",
          "evalue": "ignored",
          "traceback": [
            "\u001b[0;31m---------------------------------------------------------------------------\u001b[0m",
            "\u001b[0;31mFileNotFoundError\u001b[0m                         Traceback (most recent call last)",
            "\u001b[0;32m<ipython-input-3-2198994e7f45>\u001b[0m in \u001b[0;36m<module>\u001b[0;34m\u001b[0m\n\u001b[0;32m----> 1\u001b[0;31m \u001b[0mtrain_df\u001b[0m\u001b[0;34m,\u001b[0m \u001b[0mlabels_df\u001b[0m\u001b[0;34m,\u001b[0m \u001b[0mtest_df\u001b[0m \u001b[0;34m=\u001b[0m \u001b[0mdatasets\u001b[0m\u001b[0;34m(\u001b[0m\u001b[0;34m)\u001b[0m\u001b[0;34m\u001b[0m\u001b[0;34m\u001b[0m\u001b[0m\n\u001b[0m",
            "\u001b[0;32m<ipython-input-2-56e8af3bb724>\u001b[0m in \u001b[0;36mdatasets\u001b[0;34m()\u001b[0m\n\u001b[1;32m      1\u001b[0m \u001b[0;32mdef\u001b[0m \u001b[0mdatasets\u001b[0m\u001b[0;34m(\u001b[0m\u001b[0;34m)\u001b[0m\u001b[0;34m:\u001b[0m\u001b[0;34m\u001b[0m\u001b[0;34m\u001b[0m\u001b[0m\n\u001b[1;32m      2\u001b[0m     \u001b[0;31m#Training Dataset\u001b[0m\u001b[0;34m\u001b[0m\u001b[0;34m\u001b[0m\u001b[0;34m\u001b[0m\u001b[0m\n\u001b[0;32m----> 3\u001b[0;31m     \u001b[0mtrain\u001b[0m \u001b[0;34m=\u001b[0m \u001b[0mpd\u001b[0m\u001b[0;34m.\u001b[0m\u001b[0mread_csv\u001b[0m\u001b[0;34m(\u001b[0m\u001b[0;34m\"../input/pred-student-perf-without-competiton-env/train.csv\"\u001b[0m\u001b[0;34m)\u001b[0m\u001b[0;34m\u001b[0m\u001b[0;34m\u001b[0m\u001b[0m\n\u001b[0m\u001b[1;32m      4\u001b[0m     \u001b[0;31m#Importing Training Labels\u001b[0m\u001b[0;34m\u001b[0m\u001b[0;34m\u001b[0m\u001b[0;34m\u001b[0m\u001b[0m\n\u001b[1;32m      5\u001b[0m     \u001b[0mlabels\u001b[0m \u001b[0;34m=\u001b[0m \u001b[0mpd\u001b[0m\u001b[0;34m.\u001b[0m\u001b[0mread_csv\u001b[0m\u001b[0;34m(\u001b[0m\u001b[0;34m\"../input/pred-student-perf-without-competiton-env/train_labels.csv\"\u001b[0m\u001b[0;34m)\u001b[0m\u001b[0;34m\u001b[0m\u001b[0;34m\u001b[0m\u001b[0m\n",
            "\u001b[0;32m/usr/local/lib/python3.8/dist-packages/pandas/util/_decorators.py\u001b[0m in \u001b[0;36mwrapper\u001b[0;34m(*args, **kwargs)\u001b[0m\n\u001b[1;32m    309\u001b[0m                     \u001b[0mstacklevel\u001b[0m\u001b[0;34m=\u001b[0m\u001b[0mstacklevel\u001b[0m\u001b[0;34m,\u001b[0m\u001b[0;34m\u001b[0m\u001b[0;34m\u001b[0m\u001b[0m\n\u001b[1;32m    310\u001b[0m                 )\n\u001b[0;32m--> 311\u001b[0;31m             \u001b[0;32mreturn\u001b[0m \u001b[0mfunc\u001b[0m\u001b[0;34m(\u001b[0m\u001b[0;34m*\u001b[0m\u001b[0margs\u001b[0m\u001b[0;34m,\u001b[0m \u001b[0;34m**\u001b[0m\u001b[0mkwargs\u001b[0m\u001b[0;34m)\u001b[0m\u001b[0;34m\u001b[0m\u001b[0;34m\u001b[0m\u001b[0m\n\u001b[0m\u001b[1;32m    312\u001b[0m \u001b[0;34m\u001b[0m\u001b[0m\n\u001b[1;32m    313\u001b[0m         \u001b[0;32mreturn\u001b[0m \u001b[0mwrapper\u001b[0m\u001b[0;34m\u001b[0m\u001b[0;34m\u001b[0m\u001b[0m\n",
            "\u001b[0;32m/usr/local/lib/python3.8/dist-packages/pandas/io/parsers/readers.py\u001b[0m in \u001b[0;36mread_csv\u001b[0;34m(filepath_or_buffer, sep, delimiter, header, names, index_col, usecols, squeeze, prefix, mangle_dupe_cols, dtype, engine, converters, true_values, false_values, skipinitialspace, skiprows, skipfooter, nrows, na_values, keep_default_na, na_filter, verbose, skip_blank_lines, parse_dates, infer_datetime_format, keep_date_col, date_parser, dayfirst, cache_dates, iterator, chunksize, compression, thousands, decimal, lineterminator, quotechar, quoting, doublequote, escapechar, comment, encoding, encoding_errors, dialect, error_bad_lines, warn_bad_lines, on_bad_lines, delim_whitespace, low_memory, memory_map, float_precision, storage_options)\u001b[0m\n\u001b[1;32m    584\u001b[0m     \u001b[0mkwds\u001b[0m\u001b[0;34m.\u001b[0m\u001b[0mupdate\u001b[0m\u001b[0;34m(\u001b[0m\u001b[0mkwds_defaults\u001b[0m\u001b[0;34m)\u001b[0m\u001b[0;34m\u001b[0m\u001b[0;34m\u001b[0m\u001b[0m\n\u001b[1;32m    585\u001b[0m \u001b[0;34m\u001b[0m\u001b[0m\n\u001b[0;32m--> 586\u001b[0;31m     \u001b[0;32mreturn\u001b[0m \u001b[0m_read\u001b[0m\u001b[0;34m(\u001b[0m\u001b[0mfilepath_or_buffer\u001b[0m\u001b[0;34m,\u001b[0m \u001b[0mkwds\u001b[0m\u001b[0;34m)\u001b[0m\u001b[0;34m\u001b[0m\u001b[0;34m\u001b[0m\u001b[0m\n\u001b[0m\u001b[1;32m    587\u001b[0m \u001b[0;34m\u001b[0m\u001b[0m\n\u001b[1;32m    588\u001b[0m \u001b[0;34m\u001b[0m\u001b[0m\n",
            "\u001b[0;32m/usr/local/lib/python3.8/dist-packages/pandas/io/parsers/readers.py\u001b[0m in \u001b[0;36m_read\u001b[0;34m(filepath_or_buffer, kwds)\u001b[0m\n\u001b[1;32m    480\u001b[0m \u001b[0;34m\u001b[0m\u001b[0m\n\u001b[1;32m    481\u001b[0m     \u001b[0;31m# Create the parser.\u001b[0m\u001b[0;34m\u001b[0m\u001b[0;34m\u001b[0m\u001b[0;34m\u001b[0m\u001b[0m\n\u001b[0;32m--> 482\u001b[0;31m     \u001b[0mparser\u001b[0m \u001b[0;34m=\u001b[0m \u001b[0mTextFileReader\u001b[0m\u001b[0;34m(\u001b[0m\u001b[0mfilepath_or_buffer\u001b[0m\u001b[0;34m,\u001b[0m \u001b[0;34m**\u001b[0m\u001b[0mkwds\u001b[0m\u001b[0;34m)\u001b[0m\u001b[0;34m\u001b[0m\u001b[0;34m\u001b[0m\u001b[0m\n\u001b[0m\u001b[1;32m    483\u001b[0m \u001b[0;34m\u001b[0m\u001b[0m\n\u001b[1;32m    484\u001b[0m     \u001b[0;32mif\u001b[0m \u001b[0mchunksize\u001b[0m \u001b[0;32mor\u001b[0m \u001b[0miterator\u001b[0m\u001b[0;34m:\u001b[0m\u001b[0;34m\u001b[0m\u001b[0;34m\u001b[0m\u001b[0m\n",
            "\u001b[0;32m/usr/local/lib/python3.8/dist-packages/pandas/io/parsers/readers.py\u001b[0m in \u001b[0;36m__init__\u001b[0;34m(self, f, engine, **kwds)\u001b[0m\n\u001b[1;32m    809\u001b[0m             \u001b[0mself\u001b[0m\u001b[0;34m.\u001b[0m\u001b[0moptions\u001b[0m\u001b[0;34m[\u001b[0m\u001b[0;34m\"has_index_names\"\u001b[0m\u001b[0;34m]\u001b[0m \u001b[0;34m=\u001b[0m \u001b[0mkwds\u001b[0m\u001b[0;34m[\u001b[0m\u001b[0;34m\"has_index_names\"\u001b[0m\u001b[0;34m]\u001b[0m\u001b[0;34m\u001b[0m\u001b[0;34m\u001b[0m\u001b[0m\n\u001b[1;32m    810\u001b[0m \u001b[0;34m\u001b[0m\u001b[0m\n\u001b[0;32m--> 811\u001b[0;31m         \u001b[0mself\u001b[0m\u001b[0;34m.\u001b[0m\u001b[0m_engine\u001b[0m \u001b[0;34m=\u001b[0m \u001b[0mself\u001b[0m\u001b[0;34m.\u001b[0m\u001b[0m_make_engine\u001b[0m\u001b[0;34m(\u001b[0m\u001b[0mself\u001b[0m\u001b[0;34m.\u001b[0m\u001b[0mengine\u001b[0m\u001b[0;34m)\u001b[0m\u001b[0;34m\u001b[0m\u001b[0;34m\u001b[0m\u001b[0m\n\u001b[0m\u001b[1;32m    812\u001b[0m \u001b[0;34m\u001b[0m\u001b[0m\n\u001b[1;32m    813\u001b[0m     \u001b[0;32mdef\u001b[0m \u001b[0mclose\u001b[0m\u001b[0;34m(\u001b[0m\u001b[0mself\u001b[0m\u001b[0;34m)\u001b[0m\u001b[0;34m:\u001b[0m\u001b[0;34m\u001b[0m\u001b[0;34m\u001b[0m\u001b[0m\n",
            "\u001b[0;32m/usr/local/lib/python3.8/dist-packages/pandas/io/parsers/readers.py\u001b[0m in \u001b[0;36m_make_engine\u001b[0;34m(self, engine)\u001b[0m\n\u001b[1;32m   1038\u001b[0m             )\n\u001b[1;32m   1039\u001b[0m         \u001b[0;31m# error: Too many arguments for \"ParserBase\"\u001b[0m\u001b[0;34m\u001b[0m\u001b[0;34m\u001b[0m\u001b[0;34m\u001b[0m\u001b[0m\n\u001b[0;32m-> 1040\u001b[0;31m         \u001b[0;32mreturn\u001b[0m \u001b[0mmapping\u001b[0m\u001b[0;34m[\u001b[0m\u001b[0mengine\u001b[0m\u001b[0;34m]\u001b[0m\u001b[0;34m(\u001b[0m\u001b[0mself\u001b[0m\u001b[0;34m.\u001b[0m\u001b[0mf\u001b[0m\u001b[0;34m,\u001b[0m \u001b[0;34m**\u001b[0m\u001b[0mself\u001b[0m\u001b[0;34m.\u001b[0m\u001b[0moptions\u001b[0m\u001b[0;34m)\u001b[0m  \u001b[0;31m# type: ignore[call-arg]\u001b[0m\u001b[0;34m\u001b[0m\u001b[0;34m\u001b[0m\u001b[0m\n\u001b[0m\u001b[1;32m   1041\u001b[0m \u001b[0;34m\u001b[0m\u001b[0m\n\u001b[1;32m   1042\u001b[0m     \u001b[0;32mdef\u001b[0m \u001b[0m_failover_to_python\u001b[0m\u001b[0;34m(\u001b[0m\u001b[0mself\u001b[0m\u001b[0;34m)\u001b[0m\u001b[0;34m:\u001b[0m\u001b[0;34m\u001b[0m\u001b[0;34m\u001b[0m\u001b[0m\n",
            "\u001b[0;32m/usr/local/lib/python3.8/dist-packages/pandas/io/parsers/c_parser_wrapper.py\u001b[0m in \u001b[0;36m__init__\u001b[0;34m(self, src, **kwds)\u001b[0m\n\u001b[1;32m     49\u001b[0m \u001b[0;34m\u001b[0m\u001b[0m\n\u001b[1;32m     50\u001b[0m         \u001b[0;31m# open handles\u001b[0m\u001b[0;34m\u001b[0m\u001b[0;34m\u001b[0m\u001b[0;34m\u001b[0m\u001b[0m\n\u001b[0;32m---> 51\u001b[0;31m         \u001b[0mself\u001b[0m\u001b[0;34m.\u001b[0m\u001b[0m_open_handles\u001b[0m\u001b[0;34m(\u001b[0m\u001b[0msrc\u001b[0m\u001b[0;34m,\u001b[0m \u001b[0mkwds\u001b[0m\u001b[0;34m)\u001b[0m\u001b[0;34m\u001b[0m\u001b[0;34m\u001b[0m\u001b[0m\n\u001b[0m\u001b[1;32m     52\u001b[0m         \u001b[0;32massert\u001b[0m \u001b[0mself\u001b[0m\u001b[0;34m.\u001b[0m\u001b[0mhandles\u001b[0m \u001b[0;32mis\u001b[0m \u001b[0;32mnot\u001b[0m \u001b[0;32mNone\u001b[0m\u001b[0;34m\u001b[0m\u001b[0;34m\u001b[0m\u001b[0m\n\u001b[1;32m     53\u001b[0m \u001b[0;34m\u001b[0m\u001b[0m\n",
            "\u001b[0;32m/usr/local/lib/python3.8/dist-packages/pandas/io/parsers/base_parser.py\u001b[0m in \u001b[0;36m_open_handles\u001b[0;34m(self, src, kwds)\u001b[0m\n\u001b[1;32m    220\u001b[0m         \u001b[0mLet\u001b[0m \u001b[0mthe\u001b[0m \u001b[0mreaders\u001b[0m \u001b[0mopen\u001b[0m \u001b[0mIOHandles\u001b[0m \u001b[0mafter\u001b[0m \u001b[0mthey\u001b[0m \u001b[0mare\u001b[0m \u001b[0mdone\u001b[0m \u001b[0;32mwith\u001b[0m \u001b[0mtheir\u001b[0m \u001b[0mpotential\u001b[0m \u001b[0mraises\u001b[0m\u001b[0;34m.\u001b[0m\u001b[0;34m\u001b[0m\u001b[0;34m\u001b[0m\u001b[0m\n\u001b[1;32m    221\u001b[0m         \"\"\"\n\u001b[0;32m--> 222\u001b[0;31m         self.handles = get_handle(\n\u001b[0m\u001b[1;32m    223\u001b[0m             \u001b[0msrc\u001b[0m\u001b[0;34m,\u001b[0m\u001b[0;34m\u001b[0m\u001b[0;34m\u001b[0m\u001b[0m\n\u001b[1;32m    224\u001b[0m             \u001b[0;34m\"r\"\u001b[0m\u001b[0;34m,\u001b[0m\u001b[0;34m\u001b[0m\u001b[0;34m\u001b[0m\u001b[0m\n",
            "\u001b[0;32m/usr/local/lib/python3.8/dist-packages/pandas/io/common.py\u001b[0m in \u001b[0;36mget_handle\u001b[0;34m(path_or_buf, mode, encoding, compression, memory_map, is_text, errors, storage_options)\u001b[0m\n\u001b[1;32m    700\u001b[0m         \u001b[0;32mif\u001b[0m \u001b[0mioargs\u001b[0m\u001b[0;34m.\u001b[0m\u001b[0mencoding\u001b[0m \u001b[0;32mand\u001b[0m \u001b[0;34m\"b\"\u001b[0m \u001b[0;32mnot\u001b[0m \u001b[0;32min\u001b[0m \u001b[0mioargs\u001b[0m\u001b[0;34m.\u001b[0m\u001b[0mmode\u001b[0m\u001b[0;34m:\u001b[0m\u001b[0;34m\u001b[0m\u001b[0;34m\u001b[0m\u001b[0m\n\u001b[1;32m    701\u001b[0m             \u001b[0;31m# Encoding\u001b[0m\u001b[0;34m\u001b[0m\u001b[0;34m\u001b[0m\u001b[0;34m\u001b[0m\u001b[0m\n\u001b[0;32m--> 702\u001b[0;31m             handle = open(\n\u001b[0m\u001b[1;32m    703\u001b[0m                 \u001b[0mhandle\u001b[0m\u001b[0;34m,\u001b[0m\u001b[0;34m\u001b[0m\u001b[0;34m\u001b[0m\u001b[0m\n\u001b[1;32m    704\u001b[0m                 \u001b[0mioargs\u001b[0m\u001b[0;34m.\u001b[0m\u001b[0mmode\u001b[0m\u001b[0;34m,\u001b[0m\u001b[0;34m\u001b[0m\u001b[0;34m\u001b[0m\u001b[0m\n",
            "\u001b[0;31mFileNotFoundError\u001b[0m: [Errno 2] No such file or directory: '../input/pred-student-perf-without-competiton-env/train.csv'"
          ]
        }
      ]
    },
    {
      "cell_type": "code",
      "source": [
        "test_df['session'] = test_df.session_id.apply(lambda x: int(x.split('_')[0]) )\n",
        "test_df['q'] = test_df.session_id.apply(lambda x: int(x.split('_')[-1][1:]) )\n",
        "print( test_df.shape )\n",
        "test_df.head()"
      ],
      "metadata": {
        "id": "9hW3IgnH7aV3"
      },
      "execution_count": null,
      "outputs": []
    },
    {
      "cell_type": "markdown",
      "source": [
        "Note some codes were redundant so i have removed them from inside\n"
      ],
      "metadata": {
        "id": "pBZuRz368Inp"
      }
    },
    {
      "cell_type": "code",
      "source": [
        "train_df.head(10)"
      ],
      "metadata": {
        "id": "tw1KmoHP8At_"
      },
      "execution_count": null,
      "outputs": []
    },
    {
      "cell_type": "code",
      "source": [
        "train_df = train_df.sort_values(['session_id','elapsed_time'])\n",
        "print(train_df)"
      ],
      "metadata": {
        "id": "NBCWBoXZ8TLZ"
      },
      "execution_count": null,
      "outputs": []
    },
    {
      "cell_type": "code",
      "source": [
        "train_df.describe()"
      ],
      "metadata": {
        "id": "lg4uBQoZ8Z1W"
      },
      "execution_count": null,
      "outputs": []
    },
    {
      "cell_type": "code",
      "source": [
        "print(train_df.dtypes)"
      ],
      "metadata": {
        "id": "G_F2215T8e_f"
      },
      "execution_count": null,
      "outputs": []
    },
    {
      "cell_type": "code",
      "source": [
        "no_rows, no_columns = train_df.shape\n",
        "print(f\"Training Data Rows and Columns Information \\nNumber of Rows: {no_rows}\\nNumber of Columns: {no_columns}\")"
      ],
      "metadata": {
        "id": "rBxpai9f8jCC"
      },
      "execution_count": null,
      "outputs": []
    },
    {
      "cell_type": "code",
      "source": [
        "print(\"nan values in Training Data\", train_df.isna().sum().sort_values(ascending=True))"
      ],
      "metadata": {
        "id": "sXZ-7-s_8oRt"
      },
      "execution_count": null,
      "outputs": []
    },
    {
      "cell_type": "code",
      "source": [
        "events = train_df[\"event_name\"].unique()\n",
        "print(\"All listed Events in Training Data are:\", events)"
      ],
      "metadata": {
        "id": "RZjUIpGN8y5L"
      },
      "execution_count": null,
      "outputs": []
    },
    {
      "cell_type": "code",
      "source": [
        "eve = train_df[\"event_name\"].value_counts().plot(kind='barh', title = \"Event Names\", color = 'green')\n",
        "eve.set_xlabel(\"Number of Events\")\n",
        "eve.set_ylabel(\"Name of Events\")\n",
        "plt.show()"
      ],
      "metadata": {
        "id": "IN1XGsll_QFN"
      },
      "execution_count": null,
      "outputs": []
    },
    {
      "cell_type": "code",
      "source": [
        "plt.figure(figsize = (5, 5))\n",
        "eve = train_df[\"name\"].value_counts().plot(kind='bar', title = \"Names\", color = 'orange')\n",
        "eve.set_xlabel(\"Name\")\n",
        "eve.set_ylabel(\"Occurence\")\n",
        "plt.show()"
      ],
      "metadata": {
        "id": "QRevtYyHEXiw"
      },
      "execution_count": null,
      "outputs": []
    },
    {
      "cell_type": "code",
      "source": [
        "names = train_df[\"name\"].unique()\n",
        "print(\"Name in Training Data are:\", names)\n",
        "names = train_df[\"name\"].value_counts().sort_values(ascending=True)\n",
        "print(names)"
      ],
      "metadata": {
        "id": "PaVwDRpy_pAk"
      },
      "execution_count": null,
      "outputs": []
    },
    {
      "cell_type": "code",
      "source": [
        "lev = train_df[\"level\"].unique()\n",
        "print(\"Levels in Training Data are:\", lev)\n",
        "lev = train_df[\"level\"].value_counts().sort_values(ascending=True)\n",
        "print(lev)"
      ],
      "metadata": {
        "id": "kNkt64afEiA4"
      },
      "execution_count": null,
      "outputs": []
    },
    {
      "cell_type": "code",
      "source": [
        "plt.figure(figsize = (8, 8))\n",
        "lev = train_df[\"level\"].value_counts().plot(kind='barh', title = \"Levels\", color = 'blue')\n",
        "lev.set_xlabel(\"Occurence\")\n",
        "lev.set_ylabel(\"Level\")\n",
        "plt.show()"
      ],
      "metadata": {
        "id": "uvkeaWGlE8s9"
      },
      "execution_count": null,
      "outputs": []
    },
    {
      "cell_type": "code",
      "source": [
        "tim = train_df[\"level_group\"].unique()\n",
        "print(\"Name in Training Data are:\", tim)\n",
        "tim = train_df[\"level_group\"].value_counts()\n",
        "print(tim)"
      ],
      "metadata": {
        "id": "0a0OTPEbFCC-"
      },
      "execution_count": null,
      "outputs": []
    },
    {
      "cell_type": "code",
      "source": [
        "plt.figure(figsize = (5, 5))\n",
        "plt.style.use('bmh')\n",
        "lev = train_df[\"level_group\"].value_counts().plot(kind='bar', title = \"Level_group\", color = 'red')\n",
        "lev.set_xlabel(\"Level_group\")\n",
        "lev.set_ylabel(\"Occurence\")\n",
        "plt.show()"
      ],
      "metadata": {
        "id": "UOSEedxYFHA2"
      },
      "execution_count": null,
      "outputs": []
    },
    {
      "cell_type": "code",
      "source": [
        "f_qid = train_df[\"elapsed_time\"].unique()\n",
        "print(\"Name in Training Data are:\", f_qid)\n",
        "f_qid = train_df[\"elapsed_time\"].value_counts().sort_index(ascending=True)\n",
        "print(f_qid)"
      ],
      "metadata": {
        "id": "PtiTDqo0Fbyx"
      },
      "execution_count": null,
      "outputs": []
    },
    {
      "cell_type": "code",
      "source": [
        "from sklearn import preprocessing\n",
        "\n",
        "normalized_arr = preprocessing.normalize([train_df.elapsed_time])\n",
        "print(normalized_arr)"
      ],
      "metadata": {
        "id": "cry-ntR5Fiyw"
      },
      "execution_count": null,
      "outputs": []
    },
    {
      "cell_type": "code",
      "source": [
        "plt.figure(figsize = (7, 7))\n",
        "sns.distplot(normalized_arr)\n",
        "\n",
        "plt.grid()\n",
        "plt.title(\"Elapsed time - distribution plot\")\n",
        "plt.show()"
      ],
      "metadata": {
        "id": "fEfFeZopFmYF"
      },
      "execution_count": null,
      "outputs": []
    },
    {
      "cell_type": "code",
      "source": [
        "plt.figure(figsize=(5, 5))\n",
        "\n",
        "session_id = train_df[\"session_id\"]\n",
        "print(session_id)\n",
        "sns.distplot(session_id, kde=True)\n",
        "plt.xlabel(\"session ID\", fontsize=12)\n",
        "plt.ylabel(\"Count\", fontsize=12)\n",
        "plt.title(\"Session ID\", fontsize=16)\n"
      ],
      "metadata": {
        "id": "AjFM19TIFuI2"
      },
      "execution_count": null,
      "outputs": []
    },
    {
      "cell_type": "code",
      "source": [
        "train_df.dropna([\"hover_duration\". \"page\", \"music\", \"fullscreen\", \"hq\"], axis =1 , inplace = True)\n"
      ],
      "metadata": {
        "id": "6Z7l-vxMF6hN"
      },
      "execution_count": null,
      "outputs": []
    },
    {
      "cell_type": "code",
      "source": [
        "train_df.drop_duplicates([\"room_coor_x\", \"room_coor_y\", \"screen_coor_x\" ,\"screen_coor_y\"], inplace = True)"
      ],
      "metadata": {
        "id": "v1pR94uvDUbm"
      },
      "execution_count": null,
      "outputs": []
    },
    {
      "cell_type": "code",
      "source": [
        "for col in train_df.columns:\n",
        "  if train_df[col].dtype != \"object\":\n",
        "    train_df[col] = data[col].fillna(data[col].mean())"
      ],
      "metadata": {
        "id": "-rNRQub4GGGP"
      },
      "execution_count": null,
      "outputs": []
    },
    {
      "cell_type": "code",
      "source": [
        "for col in data.columns:\n",
        "  if train_df[col].dtype ==\"object\":\n",
        "    train_df[col] = data[col].fillna(data[col].mode())"
      ],
      "metadata": {
        "id": "oeag2hmIGRZN"
      },
      "execution_count": null,
      "outputs": []
    },
    {
      "cell_type": "code",
      "source": [
        "plt.figure(figsize= (14,12))\n",
        "ax = sns.countplot(x = train_df[\"event_name\"], data = train_df)\n"
      ],
      "metadata": {
        "id": "a5p0vl8ZEJ77"
      },
      "execution_count": null,
      "outputs": []
    },
    {
      "cell_type": "code",
      "source": [
        "def feature_engineer(train_df):\n",
        "    \n",
        "    df = []\n",
        "    for c in categorical_values:\n",
        "        temp_feature = train_df.groupby(['session_id','level_group'])[c].agg('nunique')\n",
        "        temp_feature.name = temp_feature.name + '_nunique'\n",
        "        dfs.append(temp_feature)\n",
        "    for c in numerical_values:\n",
        "        temp_feature = train_df.groupby(['session_id','level_group'])[c].agg('median')\n",
        "        temp_feature.name = temp_feature.name + '_median'\n",
        "        train_df.append(temp_feature)\n",
        "    for c in numerical_values:\n",
        "        temp_feature = train_df.groupby(['session_id','level_group'])[c].agg('std')\n",
        "        temp_feature.name = temp_feature.name + '_std'\n",
        "        train_df.append(temp_feature)\n",
        "    for c in numerical_values: \n",
        "        train[c] = (train_df.event_name == c).astype('int8')\n",
        "    for c in numerical_values + ['elapsed_time']:\n",
        "        temp_feature = train_df.groupby(['session_id','level_group'])[c].agg('sum')\n",
        "        temp_feature.name = temp_feature.name + '_sum'\n",
        "        train_df.append(temp_feature)\n",
        "    train_df.drop(events_loc,axis=1, inplace = True)\n",
        "        \n",
        "    train_df = pd.concat(dfs,axis=1)\n",
        "    train_df = train_df.fillna(-1)\n",
        "    train_df = train_df.reset_index()\n",
        "    train_df = train_df.set_index('session_id')\n",
        "    return train_df"
      ],
      "metadata": {
        "id": "oalp-ma4G3Li"
      },
      "execution_count": null,
      "outputs": []
    },
    {
      "cell_type": "code",
      "source": [
        "FEATURES = [c for c in train_df.columns if c != 'level_group']\n",
        "print('We will train with', len(FEATURES) ,'features')\n",
        "ALL_USERS = train_df.index.unique()\n",
        "print('We will train with', len(ALL_USERS) ,'users info')"
      ],
      "metadata": {
        "id": "V2oSw58-G8_R"
      },
      "execution_count": null,
      "outputs": []
    },
    {
      "cell_type": "code",
      "source": [
        "gkf = GroupKFold(n_splits=20)\n",
        "oof = pd.DataFrame(data=np.zeros((len(ALL_USERS),18)), index=ALL_USERS)\n",
        "models = {}\n",
        "\n",
        "\n",
        "for i, (train_index, test_index) in enumerate(gkf.split(X=train_df, groups=train_df.index)):\n",
        "    print('#'*25)\n",
        "    print('### Fold',i+1)\n",
        "    print('#'*25)\n",
        "    \n",
        "    xgb_params = {\n",
        "    'objective' : 'binary:logistic',\n",
        "    'eval_metric':'logloss',\n",
        "    'learning_rate': 0.005,\n",
        "    'max_depth': 4,\n",
        "    'n_estimators': 1500,\n",
        "    'early_stopping_rounds': 50,\n",
        "    'tree_method':'hist',\n",
        "    'subsample':0.8,\n",
        "    'colsample_bytree': 0.4,\n",
        "    'use_label_encoder' : False}\n",
        "    \n",
        "    # ITERATE THRU QUESTIONS 1 THRU 18\n",
        "    for t in range(1,19):\n",
        "        \n",
        "        # USE THIS TRAIN DATA WITH THESE QUESTIONS\n",
        "        if t<=3: grp = '0-4'\n",
        "        elif t<=13: grp = '5-12'\n",
        "        elif t<=22: grp = '13-22'\n",
        "            \n",
        "        # TRAIN DATA\n",
        "        train_x = train_df.iloc[train_index]\n",
        "        train_x = train_x.loc[train_x.level_group == grp]\n",
        "        train_users = train_x.index.values\n",
        "        train_y = targets.loc[targets.q==t].set_index('session').loc[train_users]\n",
        "        \n",
        "        # VALID DATA\n",
        "        valid_x = df.iloc[test_index]\n",
        "        valid_x = valid_x.loc[valid_x.level_group == grp]\n",
        "        valid_users = valid_x.index.values\n",
        "        valid_y = targets.loc[targets.q==t].set_index('session').loc[valid_users]\n",
        "        \n",
        "        # TRAIN MODEL        \n",
        "        clf =  XGBClassifier(**xgb_params)\n",
        "        clf.fit(train_x[FEATURES].astype('float32'), train_y['correct'],\n",
        "                eval_set=[ (valid_x[FEATURES].astype('float32'), valid_y['correct']) ],\n",
        "                verbose=0)\n",
        "        print(f'{t}({clf.best_ntree_limit}), ',end='')\n",
        "        \n",
        "        # SAVE MODEL, PREDICT VALID OOF\n",
        "        models[f'{grp}_{t}'] = clf\n",
        "        oof.loc[valid_users, t-1] = clf.predict_proba(valid_x[FEATURES].astype('float32'))[:,1]\n",
        "        \n",
        "    print()"
      ],
      "metadata": {
        "id": "izBJ81qgKPLR"
      },
      "execution_count": null,
      "outputs": []
    },
    {
      "cell_type": "code",
      "source": [
        "scores = []; thresholds = []\n",
        "best_score = 0; best_threshold = 0\n",
        "\n",
        "for threshold in np.arange(0.4,0.81,0.01):\n",
        "    print(f'{threshold:.02f}, ',end='')\n",
        "    preds = (oof.values.reshape((-1))>threshold).astype('int')\n",
        "    m = f1_score(true.values.reshape((-1)), preds, average='macro')   \n",
        "    scores.append(m)\n",
        "    thresholds.append(threshold)\n",
        "    if m>best_score:\n",
        "        best_score = m\n",
        "        best_threshold = threshold"
      ],
      "metadata": {
        "id": "Pb9J9gSaN_eM"
      },
      "execution_count": null,
      "outputs": []
    },
    {
      "cell_type": "code",
      "source": [
        "import matplotlib.pyplot as plt\n",
        "\n",
        "# PLOT THRESHOLD VS. F1_SCORE\n",
        "plt.figure(figsize=(20,5))\n",
        "plt.plot(thresholds,scores,'-o',color='blue')\n",
        "plt.scatter([best_threshold], [best_score], color='blue', s=300, alpha=1)\n",
        "plt.xlabel('Threshold',size=14)\n",
        "plt.ylabel('Validation F1 Score',size=14)\n",
        "plt.title(f'Threshold vs. F1_Score with Best F1_Score = {best_score:.3f} at Best Threshold = {best_threshold:.3}',size=18)\n",
        "plt.show()\n"
      ],
      "metadata": {
        "id": "cmuwYSE9Ohnb"
      },
      "execution_count": null,
      "outputs": []
    },
    {
      "cell_type": "code",
      "source": [
        "print('When using optimal threshold...')\n",
        "for k in range(18):\n",
        "        \n",
        "    # COMPUTE F1 SCORE PER QUESTION\n",
        "    m = f1_score(true[k].values, (oof[k].values>best_threshold).astype('int'), average='macro')\n",
        "    print(f'Q{k}: F1 =',m)\n",
        "    \n",
        "# COMPUTE F1 SCORE OVERALL\n",
        "m = f1_score(true.values.reshape((-1)), (oof.values.reshape((-1))>best_threshold).astype('int'), average='macro')\n",
        "print('==> Overall F1 =',m)"
      ],
      "metadata": {
        "id": "kLIRVcBmOmzj"
      },
      "execution_count": null,
      "outputs": []
    }
  ]
}